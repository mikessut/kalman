{
 "cells": [
  {
   "cell_type": "markdown",
   "metadata": {},
   "source": [
    "The following are the states of the Extended Kalman filter (EKF):\n",
    "\n",
    "\\begin{equation}\n",
    "x = \n",
    "\\begin{bmatrix} \n",
    "p \\\\\n",
    "q \\\\\n",
    "r \\\\\n",
    "a_x \\\\\n",
    "a_y \\\\\n",
    "a_z \\\\\n",
    "\\phi \\\\\n",
    "\\theta \\\\\n",
    "\\psi \\\\\n",
    "TAS \\\\\n",
    "m_y \\\\\n",
    "m_z \n",
    "\\end{bmatrix}\n",
    "\\end{equation}\n",
    "\n"
   ]
  },
  {
   "cell_type": "markdown",
   "metadata": {},
   "source": [
    "| State Var | Description            | Units   |\n",
    "|:-----------|:------------------------|:---------:|\n",
    "| $p$      | Body axis roll rate    | rad/sec |\n",
    "| $q$      | Body axis pitch rate   | rad/sec |\n",
    "| $r$      | Body axis yaw rate     | rad/sec |\n",
    "| $a_x$     | Body axis acceleration | m/s$^2$ |\n",
    "| $a_y$     | Body axis acceleration | m/s$^2$ |\n",
    "| $a_z$     | Body axis acceleration | m/s$^2$ |\n",
    "| $\\phi$    | Euler roll angle       | rad |\n",
    "| $\\theta$  | Euler bank angle       | rad |\n",
    "| $\\psi$    | Euler yaw angle        | rad |\n",
    "| $TAS$     | True airspeed          | m/s |\n",
    "| $m_x$     | Earth mag vector       | $\\mu$T |\n",
    "| $m_z$     | Earth mag vector       | $\\mu$T |\n",
    "\n",
    "Note that by definition the y component of earth's  field ($m_y$) is zero. In other words, the definition used here is that the earth coordinate system x points north.  The heading used here is magnetic heading.\n",
    "\n",
    "The number of states is $n_{states}$ and in this case is equal to 12.\n",
    "\n",
    "There are a number of other parameters used throughout this analysis and they are described here:\n",
    "\n",
    "| Variable | Description | Units |\n",
    "| :-- | :-- | :--: |\n",
    "| g | Gravitational acceleration | m/s |\n",
    "\n",
    "The Euler angle rotation angles above ($\\phi$, $\\theta$, and $\\psi$) are used to create a rotation matrix to convert from earth coordinates to body frame coordinates.  TODO: The analysis should extend to use a quaternion to avoid gimbal lock problems.\n",
    "\n",
    "$$\n",
    "H_{EB} = \n",
    "\\begin{bmatrix}\n",
    "\\cos\\theta cos\\psi & \\cos\\theta sin\\psi & -sin\\theta \\\\\n",
    "\\sin\\phi \\sin\\theta - cos\\phi sin\\psi & sin\\phi sin\\theta sin\\psi + \\cos\\phi \\cos\\psi & sin\\phi cos\\theta \\\\\n",
    "\\cos\\phi  \\sin\\theta  \\cos\\psi + \\sin\\phi  \\sin\\psi & \\cos\\phi \\sin\\theta \\sin\\psi - \\sin\\phi \\cos\\psi & \\cos\\phi \\cos\\theta \\\\\n",
    "\\end{bmatrix}\n",
    "$$\n"
   ]
  },
  {
   "cell_type": "markdown",
   "metadata": {},
   "source": [
    "Kalman Filter parameters:\n",
    "    \n",
    "| Parameter | Description |    \n",
    "| :--- | :--- |\n",
    "| $x$ | State vector ($n_{states} \\times 1$ ) |\n",
    "| $P$ | Covariance of states ($n_{states} \\times n_{states}$) |\n",
    "| $Q$ | Covariance of the prediction step. Can be thought of as how incorrect is the model used in the prediction step. ($n_{states} \\times n_{states}$) |\n",
    "| $F$ | For a standard Kalman filter, this is the matrix that when multiplied by $x$ generates the model prediction. ($n_{states} \\times n_{states}$) |\n",
    "| $R$ | Covariance of sensors ($n_{sensors} \\times n_{sensors}$) |\n",
    "| $H$ | Maps $x$ to sensor space. ($n_{sensors} \\times n_{states}$) |\n",
    "\n",
    "Prediction:\n",
    "$$\n",
    "\\boldsymbol{x_{k | k-1}} = f\\left( x_{k-1 | k-1} \\right) \n",
    "$$\n",
    "$$ P = F P F^T + Q $$\n",
    "\n",
    "Update:\n",
    "$$ \n",
    "\\begin{align}\n",
    "\\boldsymbol{y_k} &= z_k - h\\left( x_{k | k-1} \\right) \\\\\n",
    "S &= H P H^T + R \\\\\n",
    "K &= P H^T S^{-1} \\\\\n",
    "\\boldsymbol{x_{k|k}} &= x_{k | k-1} + K y \\\\\n",
    "P &= (I - K H) P \\\\ \n",
    "\\end{align}\n",
    "$$ \n",
    "\n",
    "$F$ and $H$ are the Jacobian matricies corresponding to the functions $f()$ and $h()$ respectively."
   ]
  },
  {
   "cell_type": "code",
   "execution_count": 4,
   "metadata": {
    "collapsed": true
   },
   "outputs": [],
   "source": [
    "from sympy import *\n",
    "import numpy as np\n",
    "from DCM_sym import HEB\n",
    "init_printing()"
   ]
  },
  {
   "cell_type": "code",
   "execution_count": 5,
   "metadata": {},
   "outputs": [],
   "source": [
    "# Create all state variables\n",
    "p, q, r = symbols(['p', 'q', 'r'])\n",
    "phi, theta, psi = symbols(['phi', 'theta', 'psi'])\n",
    "ax, ay, az = symbols(['ax', 'ay', 'az'])\n",
    "magx, magy, magz = symbols(['magx', 'magy', 'magz'])\n",
    "magxe, magze = symbols(['magxe', 'magze'])\n",
    "TAS = symbols('TAS')\n",
    "g = symbols('g')\n",
    "dt = symbols('dt')\n",
    "nstates = 12\n",
    "statevars = np.array([p, q, r, ax, ay, az, phi, theta, psi, TAS, magxe, magze])"
   ]
  },
  {
   "cell_type": "markdown",
   "metadata": {},
   "source": [
    "The model used for this filter is an assumption of coordinated flight.  Using this assumption, we can calculate the [rate of rotation](https://en.wikipedia.org/wiki/Standard_rate_turn) and [centripital acceleration](https://en.wikipedia.org/wiki/Centripetal_force) due to this rotation.  \n",
    "\n",
    "The rate of rotation simplifies to:\n",
    "$$ \\dot{\\phi} = \\tan\\left( \\frac{\\phi g}{TAS} \\right)  $$\n",
    "\n",
    "We can determine the rate of rotation in body axes by multiplying by rotation matrix:"
   ]
  },
  {
   "cell_type": "code",
   "execution_count": 6,
   "metadata": {},
   "outputs": [
    {
     "data": {
      "image/png": "[encoded data removed]",
      "text/latex": [
       "$$\\left[\\begin{matrix}- \\frac{g}{TAS} \\sin{\\left (\\theta \\right )} \\tan{\\left (\\phi \\right )}\\\\\\frac{g}{TAS} \\sin{\\left (\\phi \\right )} \\cos{\\left (\\theta \\right )} \\tan{\\left (\\phi \\right )}\\\\\\frac{g}{TAS} \\cos{\\left (\\phi \\right )} \\cos{\\left (\\theta \\right )} \\tan{\\left (\\phi \\right )}\\end{matrix}\\right]$$"
      ],
      "text/plain": [
       "⎡  -g⋅sin(θ)⋅tan(φ)    ⎤\n",
       "⎢  ─────────────────   ⎥\n",
       "⎢         TAS          ⎥\n",
       "⎢                      ⎥\n",
       "⎢g⋅sin(φ)⋅cos(θ)⋅tan(φ)⎥\n",
       "⎢──────────────────────⎥\n",
       "⎢         TAS          ⎥\n",
       "⎢                      ⎥\n",
       "⎢g⋅cos(φ)⋅cos(θ)⋅tan(φ)⎥\n",
       "⎢──────────────────────⎥\n",
       "⎣         TAS          ⎦"
      ]
     },
     "execution_count": 6,
     "metadata": {},
     "output_type": "execute_result"
    }
   ],
   "source": [
    "rot = tan(phi)*g/TAS\n",
    "rotb = HEB.dot(np.vstack([0,0,rot]))\n",
    "Matrix(rotb)"
   ]
  },
  {
   "cell_type": "markdown",
   "metadata": {},
   "source": [
    "The gravity vector is represented in body coordinates as:\n",
    "$$\n",
    "a_g = HEB \\begin{bmatrix} 0 \\\\ 0 \\\\ -g \\end{bmatrix}\n",
    "$$\n",
    "\n",
    "Acceleration in body coordinates is given by:\n",
    "$$ \n",
    "\\boldsymbol{a_c} = HEB\n",
    "\\begin{bmatrix}\n",
    "-g \\tan(\\phi) \\sin(\\psi) \\\\\n",
    "g \\tan(\\phi) \\cos(\\psi) \\\\\n",
    "0 \\\\\n",
    "\\end{bmatrix}\n",
    "$$\n",
    "\n",
    "Total acceleration is then given by:\n",
    "$$\n",
    "\\boldsymbol{a} = \\boldsymbol{a_c} + \\boldsymbol{a_g}\n",
    "$$"
   ]
  },
  {
   "cell_type": "code",
   "execution_count": 7,
   "metadata": {},
   "outputs": [
    {
     "data": {
      "image/png": "[encoded data removed]",
      "text/latex": [
       "$$\\left[\\begin{matrix}g \\sin{\\left (\\theta \\right )}\\\\g \\left(\\sin{\\left (\\phi \\right )} \\sin{\\left (\\psi \\right )} \\sin{\\left (\\theta \\right )} + \\cos{\\left (\\phi \\right )} \\cos{\\left (\\psi \\right )}\\right) \\cos{\\left (\\psi \\right )} \\tan{\\left (\\phi \\right )} - g \\left(\\sin{\\left (\\phi \\right )} \\sin{\\left (\\theta \\right )} \\cos{\\left (\\psi \\right )} - \\sin{\\left (\\psi \\right )} \\cos{\\left (\\phi \\right )}\\right) \\sin{\\left (\\psi \\right )} \\tan{\\left (\\phi \\right )} - g \\sin{\\left (\\phi \\right )} \\cos{\\left (\\theta \\right )}\\\\- g \\left(\\sin{\\left (\\phi \\right )} \\sin{\\left (\\psi \\right )} + \\sin{\\left (\\theta \\right )} \\cos{\\left (\\phi \\right )} \\cos{\\left (\\psi \\right )}\\right) \\sin{\\left (\\psi \\right )} \\tan{\\left (\\phi \\right )} + g \\left(- \\sin{\\left (\\phi \\right )} \\cos{\\left (\\psi \\right )} + \\sin{\\left (\\psi \\right )} \\sin{\\left (\\theta \\right )} \\cos{\\left (\\phi \\right )}\\right) \\cos{\\left (\\psi \\right )} \\tan{\\left (\\phi \\right )} - g \\cos{\\left (\\phi \\right )} \\cos{\\left (\\theta \\right )}\\end{matrix}\\right]$$"
      ],
      "text/plain": [
       "⎡                                                             g⋅sin(θ)        \n",
       "⎢                                                                             \n",
       "⎢ g⋅(sin(φ)⋅sin(ψ)⋅sin(θ) + cos(φ)⋅cos(ψ))⋅cos(ψ)⋅tan(φ) - g⋅(sin(φ)⋅sin(θ)⋅co\n",
       "⎢                                                                             \n",
       "⎣-g⋅(sin(φ)⋅sin(ψ) + sin(θ)⋅cos(φ)⋅cos(ψ))⋅sin(ψ)⋅tan(φ) + g⋅(-sin(φ)⋅cos(ψ) +\n",
       "\n",
       "                                                      ⎤\n",
       "                                                      ⎥\n",
       "s(ψ) - sin(ψ)⋅cos(φ))⋅sin(ψ)⋅tan(φ) - g⋅sin(φ)⋅cos(θ) ⎥\n",
       "                                                      ⎥\n",
       " sin(ψ)⋅sin(θ)⋅cos(φ))⋅cos(ψ)⋅tan(φ) - g⋅cos(φ)⋅cos(θ)⎦"
      ]
     },
     "execution_count": 7,
     "metadata": {},
     "output_type": "execute_result"
    }
   ],
   "source": [
    "ag = HEB.dot(np.vstack([0,0,-g]))\n",
    "ac = HEB.dot(np.vstack([-g*tan(phi)*sin(psi), g*tan(phi)*cos(psi), 0]))\n",
    "\n",
    "ab = ac + ag\n",
    "Matrix(ab)"
   ]
  },
  {
   "cell_type": "markdown",
   "metadata": {},
   "source": [
    "We now have enough information to construct the state vector $x$ and calculate the corresponding Jacobian matrix.  The following calculates both and displays the non-zero values."
   ]
  },
  {
   "cell_type": "code",
   "execution_count": 8,
   "metadata": {},
   "outputs": [],
   "source": [
    "x = Matrix([p,q,r, \n",
    "            ab[0,0], ab[1,0], ab[2,0],\n",
    "            phi + p*dt,\n",
    "            theta + q*dt,\n",
    "            psi + rot*dt,\n",
    "            TAS + ax*dt,\n",
    "            magxe, magze])\n",
    "F = x.jacobian(statevars)"
   ]
  },
  {
   "cell_type": "markdown",
   "metadata": {},
   "source": [
    "Just printing the non-zero values is a bit easier to inspect and convert to code:"
   ]
  },
  {
   "cell_type": "code",
   "execution_count": 10,
   "metadata": {},
   "outputs": [
    {
     "name": "stdout",
     "output_type": "stream",
     "text": [
      "F[0,0] = 1\n",
      "F[1,1] = 1\n",
      "F[2,2] = 1\n",
      "F[3,7] = g*cos(theta)\n",
      "F[4,6] = g*(-cos(theta) + 1)*cos(phi)\n",
      "F[4,7] = g*sin(phi)*sin(theta)\n",
      "F[5,6] = g*(cos(theta) - 1 - 1/cos(phi)**2)*sin(phi)\n",
      "F[5,7] = g*sin(theta)*cos(phi)\n",
      "F[6,0] = dt\n",
      "F[6,6] = 1\n",
      "F[7,1] = dt\n",
      "F[7,7] = 1\n",
      "F[8,6] = dt*g/(TAS*cos(phi)**2)\n",
      "F[8,8] = 1\n",
      "F[8,9] = -dt*g*tan(phi)/TAS**2\n",
      "F[9,3] = dt\n",
      "F[9,9] = 1\n",
      "F[10,10] = 1\n",
      "F[11,11] = 1\n"
     ]
    }
   ],
   "source": [
    "for i in range(nstates):\n",
    "    for j in range(nstates):\n",
    "        tmp = simplify(F[i,j])\n",
    "        if tmp != 0:\n",
    "            print(f\"F[{i},{j}] = {tmp}\")"
   ]
  },
  {
   "cell_type": "markdown",
   "metadata": {},
   "source": [
    "This provides all the information necessary to complete the EKF predict step.  \n",
    "\n",
    "Now we can perform a similar analysis for the update step.  Since body acceleration, rotation rates, and TAS are states in the EKF, the update step is trival -- $H$ is the identity matrix and the $h()$ function is a direct mapping of the sensors to the EKF states.  The magnetometer update is a bit more involved.  Earth's magnetic field vector is converted to body axes by multiplying by the rotation matrix.\n",
    "\n",
    "$$ \n",
    "\\boldsymbol{m_b} = \n",
    "HEB\n",
    "\\begin{bmatrix}\n",
    "m_x \\\\ 0 \\\\ m_z\n",
    "\\end{bmatrix}\n",
    "$$"
   ]
  },
  {
   "cell_type": "markdown",
   "metadata": {},
   "source": [
    "$H$ is then deteremined by taking the Jacobian of this result:"
   ]
  },
  {
   "cell_type": "code",
   "execution_count": 14,
   "metadata": {},
   "outputs": [
    {
     "name": "stdout",
     "output_type": "stream",
     "text": [
      "H[0,7] = -magxe*sin(theta)*cos(psi) - magze*cos(theta)\n",
      "H[0,8] = -magxe*sin(psi)*cos(theta)\n",
      "H[0,10] = cos(psi)*cos(theta)\n",
      "H[0,11] = -sin(theta)\n",
      "H[1,6] = magxe*(sin(phi)*sin(psi) + sin(theta)*cos(phi)*cos(psi)) + magze*cos(phi)*cos(theta)\n",
      "H[1,7] = (magxe*cos(psi)*cos(theta) - magze*sin(theta))*sin(phi)\n",
      "H[1,8] = -magxe*(sin(phi)*sin(psi)*sin(theta) + cos(phi)*cos(psi))\n",
      "H[1,10] = sin(phi)*sin(theta)*cos(psi) - sin(psi)*cos(phi)\n",
      "H[1,11] = sin(phi)*cos(theta)\n",
      "H[2,6] = -magxe*sin(phi)*sin(theta)*cos(psi) + magxe*sin(psi)*cos(phi) - magze*sin(phi)*cos(theta)\n",
      "H[2,7] = (magxe*cos(psi)*cos(theta) - magze*sin(theta))*cos(phi)\n",
      "H[2,8] = magxe*(sin(phi)*cos(psi) - sin(psi)*sin(theta)*cos(phi))\n",
      "H[2,10] = sin(phi)*sin(psi) + sin(theta)*cos(phi)*cos(psi)\n",
      "H[2,11] = cos(phi)*cos(theta)\n"
     ]
    }
   ],
   "source": [
    "mb = Matrix(HEB)*Matrix([magxe, 0, magze])\n",
    "H = mb.jacobian(statevars)\n",
    "for i in range(3):\n",
    "    for j in range(len(statevars)):\n",
    "        tmp = simplify(H[i,j])\n",
    "        if tmp != 0:\n",
    "            print(f\"H[{i},{j}] = {tmp}\")"
   ]
  },
  {
   "cell_type": "markdown",
   "metadata": {
    "collapsed": true
   },
   "source": [
    "## Compass caibration\n",
    "\n",
    "### Hard Iron\n",
    "\n",
    "This effect can be thought of as the offset of the magnetic vector tracing a perfect circle.  It is corrected by simplying subtracting a bias from the raw sensor values.\n",
    "\n",
    "### Soft Iron\n",
    "\n",
    "Soft iron is the distortion of that perfect circle.\n",
    "\n",
    "A [generic model](https://www.vectornav.com/support/library/magnetometer) for compensation is\n",
    "\n",
    "$$ \n",
    "M = \n",
    "\\begin{bmatrix}\n",
    "C_1 & C_2 & C_3 \\\\\n",
    "C_4 & C_5 & C_6 \\\\\n",
    "C_7 & C_8 & C_9 \\\\\n",
    "\\end{bmatrix} \n",
    "\\begin{bmatrix}\n",
    "H_x - C_{10} \\\\\n",
    "H_y - C_{11} \\\\\n",
    "H_z - C_{12} \\\\\n",
    "\\end{bmatrix}\n",
    "$$"
   ]
  },
  {
   "cell_type": "code",
   "execution_count": null,
   "metadata": {
    "collapsed": true
   },
   "outputs": [],
   "source": []
  }
 ],
 "metadata": {
  "kernelspec": {
   "display_name": "Python 3",
   "language": "python",
   "name": "python3"
  },
  "language_info": {
   "codemirror_mode": {
    "name": "ipython",
    "version": 3
   },
   "file_extension": ".py",
   "mimetype": "text/x-python",
   "name": "python",
   "nbconvert_exporter": "python",
   "pygments_lexer": "ipython3",
   "version": "3.6.6"
  }
 },
 "nbformat": 4,
 "nbformat_minor": 2
}
