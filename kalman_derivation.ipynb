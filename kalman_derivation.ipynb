{
 "cells": [
  {
   "cell_type": "markdown",
   "metadata": {},
   "source": [
    "The following are the states of the Kalman filter:\n",
    "\n",
    "\\begin{equation}\n",
    "x = \n",
    "\\begin{bmatrix} \n",
    "p \\\\\n",
    "q \\\\\n",
    "r \\\\\n",
    "a_x \\\\\n",
    "a_y \\\\\n",
    "a_z \\\\\n",
    "\\phi \\\\\n",
    "\\theta \\\\\n",
    "\\psi \\\\\n",
    "TAS \\\\\n",
    "m_y \\\\\n",
    "m_z \n",
    "\\end{bmatrix}\n",
    "\\end{equation}\n",
    "\n"
   ]
  },
  {
   "cell_type": "markdown",
   "metadata": {},
   "source": [
    "| State Var | Description            | Units   |\n",
    "|:-----------|:------------------------|:---------:|\n",
    "| $p$      | Body axis roll rate    | rad/sec |\n",
    "| $q$      | Body axis pitch rate   | rad/sec |\n",
    "| $r$      | Body axis yaw rate     | rad/sec |\n",
    "| $a_x$     | Body axis acceleration | m/s$^2$ |\n",
    "| $a_y$     | Body axis acceleration | m/s$^2$ |\n",
    "| $a_z$     | Body axis acceleration | m/s$^2$ |\n",
    "| $\\phi$    | Euler roll angle       | rad |\n",
    "| $\\theta$  | Euler bank angle       | rad |\n",
    "| $\\psi$    | Euler yaw angle        | rad |\n",
    "| $TAS$     | True airspeed          | m/s |\n",
    "| $m_x$     | Earth mag vector       | $\\mu$T |\n",
    "| $m_z$     | Earth mag vector       | $\\mu$T |\n",
    "\n",
    "Note that by definition the y component of earth's  field ($m_y$) is zero. In other words, the definition used here is that the earth coordinate system x points north.\n",
    "\n",
    "The number of states is $n_{states}$ and in this case is equal to 12.\n",
    "\n",
    "There are a number of other parameters used throughout this analysis and they are described here:\n",
    "\n",
    "| Variable | Description | Units |\n",
    "| :-- | :-- | :--: |\n",
    "| g | Gravitational acceleration | m/s |\n",
    "\n",
    "The Euler angle rotation angles above ($\\phi$, $\\theta$, and $\\psi$) are used to create a rotation matrix to convert from earth coordinates to body frame coordinates.  TODO: The analysis should extend to use a quaternion to avoid gimbal lock problems.\n",
    "\n",
    "$$\n",
    "H_{EB} = \n",
    "\\begin{bmatrix}\n",
    "\\cos\\theta cos\\psi & \\cos\\theta sin\\psi & -sin\\theta \\\\\n",
    "\\sin\\phi \\sin\\theta - cos\\phi sin\\psi & sin\\phi sin\\theta sin\\psi + \\cos\\phi \\cos\\psi & sin\\phi cos\\theta \\\\\n",
    "\\cos\\phi  \\sin\\theta  \\cos\\psi + \\sin\\phi  \\sin\\psi & \\cos\\phi \\sin\\theta \\sin\\psi - \\sin\\phi \\cos\\psi & \\cos\\phi \\cos\\theta \\\\\n",
    "\\end{bmatrix}\n",
    "$$\n"
   ]
  },
  {
   "cell_type": "markdown",
   "metadata": {},
   "source": [
    "Kalman Filter parameters:\n",
    "    \n",
    "| Parameter | Description |    \n",
    "| :--- | :--- |\n",
    "| $x$ | State vector ($n_{states} \\times 1$ ) |\n",
    "| $P$ | Covariance of states ($n_{states} \\times n_{states}$) |\n",
    "| $Q$ | Covariance of the prediction step. Can be thought of as how incorrect is the model used in the prediction step. ($n_{states} \\times n_{states}$) |\n",
    "| $F$ | For a standard Kalman filter, this is the matrix that when multiplied by $x$ generates the model prediction. ($n_{states} \\times n_{states}$) |\n",
    "| $R$ | Covariance of sensors ($n_{sensors} \\times n_{sensors}$) |\n",
    "| $H$ | Maps $x$ to sensor space. ($n_{sensors} \\times n_{states}$) |\n",
    "\n",
    "Prediction:\n",
    "$$\n",
    "x_{k | k-1} = F x_{k-1 | k-1} \n",
    "$$\n",
    "$$ P = F P F^T + Q $$\n",
    "\n",
    "Update:\n",
    "$$ \n",
    "\\begin{align}\n",
    "y_k &= z_k - H x_{k | k-1} \\\\\n",
    "S &= H P H^T + R \\\\\n",
    "K &= P H^T S^{-1} \\\\\n",
    "x_{k|k} &= x_{k | k-1} + K y \\\\\n",
    "P &= (I - K H) P \\\\ \n",
    "\\end{align}\n",
    "$$ \n"
   ]
  },
  {
   "cell_type": "code",
   "execution_count": 6,
   "metadata": {
    "collapsed": true
   },
   "outputs": [],
   "source": [
    "from sympy import *\n",
    "import numpy as np\n",
    "from DCM_sym import HEB\n",
    "init_printing()"
   ]
  },
  {
   "cell_type": "code",
   "execution_count": 7,
   "metadata": {
    "collapsed": true
   },
   "outputs": [],
   "source": [
    "# Create all state variables\n",
    "droll, dpitch, dyaw = symbols(['p', 'q', 'r'])\n",
    "phi, theta, psi = symbols(['phi', 'theta', 'psi'])\n",
    "ax, ay, az = symbols(['ax', 'ay', 'az'])\n",
    "magx, magy, magz = symbols(['magx', 'magy', 'magz'])\n",
    "magxe, magze = symbols(['magxe', 'magze'])\n",
    "TAS = symbols('TAS')\n",
    "g = symbols('g')\n",
    "dt = symbols('dt')\n",
    "nstates = 12\n",
    "statevars = np.array([droll, dpitch, dyaw, ax, ay, az, phi, theta, psi, TAS, magxe, magze])"
   ]
  },
  {
   "cell_type": "markdown",
   "metadata": {},
   "source": [
    "The model used for this filter is an assumption of coordinated flight.  Using this assumption, we can calculate the [rate of rotation](https://en.wikipedia.org/wiki/Standard_rate_turn) and [centripital acceleration](https://en.wikipedia.org/wiki/Centripetal_force) due to this rotation.  \n",
    "\n",
    "The rate of rotation simplifies to:\n",
    "$$ \\dot{\\phi} = \\tan\\left( \\frac{\\phi g}{TAS} \\right)  $$"
   ]
  },
  {
   "cell_type": "markdown",
   "metadata": {
    "collapsed": true
   },
   "source": [
    "## Compass caibration\n",
    "\n",
    "### Hard Iron\n",
    "\n",
    "This effect can be thought of as the offset of the magnetic vector tracing a perfect circle.  It is corrected by simplying subtracting a bias from the raw sensor values.\n",
    "\n",
    "### Soft Iron\n",
    "\n",
    "Soft iron is the distortion of that perfect circle.\n",
    "\n",
    "A [generic model](https://www.vectornav.com/support/library/magnetometer) for compensation is\n",
    "\n",
    "$$ \n",
    "M = \n",
    "\\begin{bmatrix}\n",
    "C_1 & C_2 & C_3 \\\\\n",
    "C_4 & C_5 & C_6 \\\\\n",
    "C_7 & C_8 & C_9 \\\\\n",
    "\\end{bmatrix} \n",
    "\\begin{bmatrix}\n",
    "H_x - C_{10} \\\\\n",
    "H_y - C_{11} \\\\\n",
    "H_z - C_{12} \\\\\n",
    "\\end{bmatrix}\n",
    "$$"
   ]
  },
  {
   "cell_type": "code",
   "execution_count": null,
   "metadata": {
    "collapsed": true
   },
   "outputs": [],
   "source": []
  }
 ],
 "metadata": {
  "kernelspec": {
   "display_name": "Python 3",
   "language": "python",
   "name": "python3"
  },
  "language_info": {
   "codemirror_mode": {
    "name": "ipython",
    "version": 3
   },
   "file_extension": ".py",
   "mimetype": "text/x-python",
   "name": "python",
   "nbconvert_exporter": "python",
   "pygments_lexer": "ipython3",
   "version": "3.6.6"
  }
 },
 "nbformat": 4,
 "nbformat_minor": 2
}
