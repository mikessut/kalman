{
 "cells": [
  {
   "cell_type": "code",
   "execution_count": 2,
   "metadata": {},
   "outputs": [],
   "source": [
    "import quaternion\n",
    "import numpy as np"
   ]
  },
  {
   "cell_type": "markdown",
   "metadata": {},
   "source": [
    "## Difference in ordering of quaternion multiplication\n",
    "\n"
   ]
  },
  {
   "cell_type": "code",
   "execution_count": 8,
   "metadata": {},
   "outputs": [
    {
     "name": "stdout",
     "output_type": "stream",
     "text": [
      "[ 0.  0. 45.]\n",
      "[11.01752596  9.10853741 56.4394748 ]\n"
     ]
    }
   ],
   "source": [
    "# Start with orientation pointing west\n",
    "q = quaternion.Quaternion.axis_angle([0,0,1], np.pi/4)\n",
    "print(q.euler_angles()*180/np.pi)\n",
    "# Now rotate (small angle) 5 degrees in all axes\n",
    "q = q*quaternion.Quaternion(1.0, .5*5*np.pi/180,.5*5*np.pi/180,.5*5*np.pi/180)\n",
    "q = q*quaternion.Quaternion(1.0, .5*5*np.pi/180,.5*5*np.pi/180,.5*5*np.pi/180)\n",
    "print(q.euler_angles()*180/np.pi)"
   ]
  },
  {
   "cell_type": "code",
   "execution_count": 7,
   "metadata": {},
   "outputs": [
    {
     "name": "stdout",
     "output_type": "stream",
     "text": [
      "[0. 0. 0.]\n",
      "[0.         0.         5.00633166]\n"
     ]
    }
   ],
   "source": [
    "q = quaternion.Quaternion(1,0,0,0)\n",
    "print(q.euler_angles()*180/np.pi)\n",
    "# Now rotate (small angle) 5 degrees in all axes\n",
    "q = quaternion.Quaternion(1.0, *(.5*5*np.pi/180*np.array([0,0,1.0])))*q\n",
    "print(q.euler_angles()*180/np.pi)"
   ]
  },
  {
   "cell_type": "markdown",
   "metadata": {},
   "source": [
    "First off, let's do some sanity checking of how to use quaternions.\n",
    "\n",
    "Let's represent a few body configurations and then see if the translations from inertial to body coordinate systems make sense.  The inertial coordinate system is x axis north and the z axis away from the center of the earth.  The body coordinate system is x in the direction of the vehicle travel (roll axis), y along the left wing (pitch axis) and z as yaw.\n",
    "\n",
    "Let's represent the body as headed west.  The north vector in body coordinates should point along the right wing."
   ]
  },
  {
   "cell_type": "code",
   "execution_count": 22,
   "metadata": {},
   "outputs": [
    {
     "name": "stdout",
     "output_type": "stream",
     "text": [
      "Headed west\n",
      "Euler angles (roll, pitch, yaw): [ 0.  0. 90.]\n",
      "North in body coordinates: [ 0. -1.  0.]\n",
      "\n",
      "Pitch up 10 degrees\n",
      "Euler angles (roll, pitch, yaw): [  0. -10.   0.]\n",
      "North in body coordinates: [ 0.98480775  0.         -0.17364818]\n",
      "\n",
      "Headed west then banked left 20 degrees\n",
      "Euler angles (roll, pitch, yaw): [ 0. 20. 90.]\n",
      "North in body coordinates: [-6.9388939e-18 -1.0000000e+00  0.0000000e+00]\n",
      "\n",
      "Headed west, pitched up 5 degrees, rolled left 20 degrees\n",
      "Euler angles (roll, pitch, yaw): [-20.  -5.  90.]\n",
      "North in body coordinates: [-1.31838984e-16 -9.39692621e-01 -3.42020143e-01]\n",
      "\n"
     ]
    }
   ],
   "source": [
    "print(\"Headed west\")\n",
    "q = quaternion.Quaternion.axis_angle(np.array([0,0,1.0]), np.pi/2)\n",
    "print(\"Euler angles (roll, pitch, yaw):\", q.euler_angles()*180/np.pi)\n",
    "# A vector pointing north ([1,0,0] in inertial coords), should be along right wing (negative y direction in body coordinates)\n",
    "north_body = (q.inv()*quaternion.Quaternion.from_vec(np.array([1.0,0,0]))*q).as_ndarray()[1:]\n",
    "print(\"North in body coordinates:\", north_body)\n",
    "print()\n",
    "\n",
    "print(\"Pitch up 10 degrees\")\n",
    "q = quaternion.Quaternion.axis_angle(np.array([0,1.0,0]), -10*np.pi/180)\n",
    "print(\"Euler angles (roll, pitch, yaw):\", q.euler_angles()*180/np.pi)\n",
    "# A vector pointing north ([1,0,0] in inertial coords), should be along right wing (negative y direction in body coordinates)\n",
    "north_body = (q.inv()*quaternion.Quaternion.from_vec(np.array([1.0,0,0]))*q).as_ndarray()[1:]\n",
    "print(\"North in body coordinates:\", north_body)\n",
    "print()\n",
    "\n",
    "print(\"Headed west then banked left 20 degrees\")\n",
    "q = quaternion.Quaternion.axis_angle(np.array([0,0,1.0]), np.pi/2)\n",
    "q = quaternion.Quaternion.axis_angle(np.array([1.0,0,0]), -20*np.pi/180)*q\n",
    "print(\"Euler angles (roll, pitch, yaw):\", q.euler_angles()*180/np.pi)\n",
    "# A vector pointing north ([1,0,0] in inertial coords), should be along right wing (negative y direction in body coordinates)\n",
    "north_body = (q.inv()*quaternion.Quaternion.from_vec(np.array([1.0,0,0]))*q).as_ndarray()[1:]\n",
    "print(\"North in body coordinates:\", north_body)\n",
    "print()\n",
    "\n",
    "print(\"Headed west, pitched up 5 degrees, rolled left 20 degrees\")\n",
    "q = quaternion.Quaternion.axis_angle(np.array([0,0,1.0]), np.pi/2)\n",
    "q *= quaternion.Quaternion.axis_angle(np.array([0,1.0,0]), -5*np.pi/180)\n",
    "q *= quaternion.Quaternion.axis_angle(np.array([1.0,0,0]), -20*np.pi/180)\n",
    "print(\"Euler angles (roll, pitch, yaw):\", q.euler_angles()*180/np.pi)\n",
    "# A vector pointing north ([1,0,0] in inertial coords), should be along right wing (negative y direction in body coordinates)\n",
    "north_body = (q.inv()*quaternion.Quaternion.from_vec(np.array([1.0,0,0]))*q).as_ndarray()[1:]\n",
    "print(\"North in body coordinates:\", north_body)\n",
    "print()"
   ]
  },
  {
   "cell_type": "markdown",
   "metadata": {},
   "source": [
    "# Create coordinate system if heading is known\n",
    "\n",
    "If we know $\\psi$, how do we create the resultant coordinate system?  $\\psi$ can be determined from orientation quaternion from:\n",
    "$$ \\mbox{atan2}[2(q_0 q_3 + q_1 q_2),\n",
    "                         1-2(q_2^2+q_3^2))]\n",
    "                         $$"
   ]
  },
  {
   "cell_type": "code",
   "execution_count": 11,
   "metadata": {},
   "outputs": [
    {
     "name": "stdout",
     "output_type": "stream",
     "text": [
      "Extracted Psi: 90.0\n",
      "Euler angles (roll, pitch, yaw): [-20.  -5. -90.]\n",
      "North in body coordinates: [1.87350135e-16 9.39692621e-01 3.42020143e-01]\n",
      "\n"
     ]
    }
   ],
   "source": [
    "# Use psi from example above.\n",
    "q = q.as_ndarray()\n",
    "print(\"Extracted Psi:\", np.arctan2(2*(q[0]*q[3] + q[1]*q[2]), 1-2*(q[2]**2 + q[3]**2))*180/np.pi)\n",
    "\n",
    "# Checking that sign is preserved. Try rotation in other direction.\n",
    "q = quaternion.Quaternion.axis_angle(np.array([0,0,1.0]), -np.pi/2)\n",
    "q *= quaternion.Quaternion.axis_angle(np.array([0,1.0,0]), -5*np.pi/180)\n",
    "q *= quaternion.Quaternion.axis_angle(np.array([1.0,0,0]), -20*np.pi/180)\n",
    "print(\"Euler angles (roll, pitch, yaw):\", q.euler_angles()*180/np.pi)\n",
    "# A vector pointing north ([1,0,0] in inertial coords), should be along right wing (negative y direction in body coordinates)\n",
    "north_body = (q.inv()*quaternion.Quaternion.from_vec(np.array([1.0,0,0]))*q).as_ndarray()[1:]\n",
    "print(\"North in body coordinates:\", north_body)\n",
    "print()"
   ]
  },
  {
   "cell_type": "code",
   "execution_count": null,
   "metadata": {},
   "outputs": [],
   "source": []
  }
 ],
 "metadata": {
  "kernelspec": {
   "display_name": "Python 3",
   "language": "python",
   "name": "python3"
  },
  "language_info": {
   "codemirror_mode": {
    "name": "ipython",
    "version": 3
   },
   "file_extension": ".py",
   "mimetype": "text/x-python",
   "name": "python",
   "nbconvert_exporter": "python",
   "pygments_lexer": "ipython3",
   "version": "3.6.9"
  }
 },
 "nbformat": 4,
 "nbformat_minor": 2
}
