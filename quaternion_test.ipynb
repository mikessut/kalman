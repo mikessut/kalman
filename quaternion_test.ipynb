{
 "cells": [
  {
   "cell_type": "code",
   "execution_count": 2,
   "metadata": {},
   "outputs": [],
   "source": [
    "import quaternion\n",
    "import numpy as np"
   ]
  },
  {
   "cell_type": "markdown",
   "metadata": {},
   "source": [
    "## Difference in ordering of quaternion multiplication\n",
    "\n",
    "A small angle approximation of rotation is given by:\n",
    "$$ q_\\Delta = 1 + \\frac{\\omega_x}{2} \\Delta t \\hat{i} + \\frac{\\omega_y}{2} \\Delta t \\hat{j} + \\frac{\\omega_z}{2} \\Delta t \\hat{k} $$\n",
    "\n",
    "If orientation is represented by quaternion $q$, what is the difference between $q q_\\Delta$ and $q_\\Delta q$?"
   ]
  },
  {
   "cell_type": "code",
   "execution_count": 31,
   "metadata": {},
   "outputs": [
    {
     "name": "stdout",
     "output_type": "stream",
     "text": [
      "10 bank, head -45: [1.00000000e+01 3.97569335e-16 4.50000000e+01]\n",
      "q0*qdelta order result: [ 9.98163189 -0.86827412 50.00471213]\n",
      "qdelta*q0 order result: [10.01894153  0.         50.08033229]\n"
     ]
    }
   ],
   "source": [
    "# Start with orientation pointing west\n",
    "q0 = quaternion.Quaternion.axis_angle([0,0,1], np.pi/4)\n",
    "q0 = q0*quaternion.Quaternion.axis_angle([1.0,0,0], 10*np.pi/180)  # kinda gives away order dependence!\n",
    "print(\"10 bank, head -45:\", q0.euler_angles()*180/np.pi)\n",
    "\n",
    "q = q0*quaternion.Quaternion(1.0, 0,0,.5*5*np.pi/180)\n",
    "print(\"q0*qdelta order result:\", q.euler_angles()*180/np.pi)\n",
    "q = quaternion.Quaternion(1.0, 0,0 ,.5*5*np.pi/180)*q0  # 5 degree heading change only\n",
    "print(\"qdelta*q0 order result:\", q.euler_angles()*180/np.pi)"
   ]
  },
  {
   "cell_type": "markdown",
   "metadata": {},
   "source": [
    "From these two examples, we can conclude that $q q_\\Delta$ rotates about body axes whereas $q_\\Delta q$ rotates about inertial axes. "
   ]
  },
  {
   "cell_type": "markdown",
   "metadata": {},
   "source": [
    "## Rotating coordinate systems\n",
    "\n",
    "Let's represent a few body configurations and then see if the translations from inertial to body coordinate systems make sense.  The inertial coordinate system is x axis north and the z axis away from the center of the earth.  The body coordinate system is x in the direction of the vehicle travel (roll axis), y along the left wing (pitch axis) and z as yaw.\n",
    "\n",
    "Let's represent the body as headed west.  The north vector in body coordinates should point along the right wing."
   ]
  },
  {
   "cell_type": "code",
   "execution_count": 12,
   "metadata": {},
   "outputs": [
    {
     "name": "stdout",
     "output_type": "stream",
     "text": [
      "Headed west\n",
      "Euler angles (roll, pitch, yaw): [ 0.  0. 90.]\n",
      "North in body coordinates: [ 0. -1.  0.]\n",
      "\n",
      "Pitch up 10 degrees\n",
      "Euler angles (roll, pitch, yaw): [  0. -10.   0.]\n",
      "North in body coordinates: [ 0.98480775  0.         -0.17364818]\n",
      "\n",
      "Headed west then banked left 20 degrees\n",
      "Euler angles (roll, pitch, yaw): [-20.   0.  90.]\n",
      "North in body coordinates: [-6.93889390e-18 -9.39692621e-01 -3.42020143e-01]\n",
      "\n",
      "Heading 315, pitched up 5 degrees, rolled left 20 degrees\n",
      "Euler angles (roll, pitch, yaw): [-20.  -5.  45.]\n",
      "North in body coordinates: [ 0.70441603 -0.64338486 -0.29975653]\n",
      "longitudinal axis in inertial: [0.70441603 0.70441603 0.08715574]\n",
      "\n"
     ]
    }
   ],
   "source": [
    "print(\"Headed west\")\n",
    "q = quaternion.Quaternion.axis_angle(np.array([0,0,1.0]), np.pi/2)\n",
    "print(\"Euler angles (roll, pitch, yaw):\", q.euler_angles()*180/np.pi)\n",
    "# A vector pointing north ([1,0,0] in inertial coords), should be along right wing (negative y direction in body coordinates)\n",
    "north_body = (q.inv()*quaternion.Quaternion.from_vec(np.array([1.0,0,0]))*q).as_ndarray()[1:]\n",
    "print(\"North in body coordinates:\", north_body)\n",
    "print()\n",
    "\n",
    "print(\"Pitch up 10 degrees\")\n",
    "q = quaternion.Quaternion.axis_angle(np.array([0,1.0,0]), -10*np.pi/180)\n",
    "print(\"Euler angles (roll, pitch, yaw):\", q.euler_angles()*180/np.pi)\n",
    "# A vector pointing north ([1,0,0] in inertial coords), should be along right wing (negative y direction in body coordinates)\n",
    "north_body = (q.inv()*quaternion.Quaternion.from_vec(np.array([1.0,0,0]))*q).as_ndarray()[1:]\n",
    "print(\"North in body coordinates:\", north_body)\n",
    "print()\n",
    "\n",
    "print(\"Headed west then banked left 20 degrees\")\n",
    "q = quaternion.Quaternion.axis_angle(np.array([0,0,1.0]), np.pi/2)\n",
    "q = q*quaternion.Quaternion.axis_angle(np.array([1.0,0,0]), -20*np.pi/180)\n",
    "print(\"Euler angles (roll, pitch, yaw):\", q.euler_angles()*180/np.pi)\n",
    "# A vector pointing north ([1,0,0] in inertial coords), should be along right wing (negative y direction in body coordinates)\n",
    "north_body = (q.inv()*quaternion.Quaternion.from_vec(np.array([1.0,0,0]))*q).as_ndarray()[1:]\n",
    "print(\"North in body coordinates:\", north_body)\n",
    "print()\n",
    "\n",
    "print(\"Heading 315, pitched up 5 degrees, rolled left 20 degrees\")\n",
    "q = quaternion.Quaternion.axis_angle(np.array([0,0,1.0]), np.pi/4)\n",
    "q = q*quaternion.Quaternion.axis_angle(np.array([0,1.0,0]), -5*np.pi/180)\n",
    "q = q*quaternion.Quaternion.axis_angle(np.array([1.0,0,0]), -20*np.pi/180)\n",
    "print(\"Euler angles (roll, pitch, yaw):\", q.euler_angles()*180/np.pi)\n",
    "# A vector pointing north ([1,0,0] in inertial coords), should be along right wing (negative y direction in body coordinates)\n",
    "north_body = (q.inv()*quaternion.Quaternion.from_vec(np.array([1.0,0,0]))*q).as_ndarray()[1:]\n",
    "print(\"North in body coordinates:\", north_body)\n",
    "longitudinal_inertial = (q*quaternion.Quaternion.from_vec(np.array([1.0,0,0]))*q.inv()).as_ndarray()[1:]\n",
    "print(\"longitudinal axis in inertial:\", longitudinal_inertial)\n",
    "print()"
   ]
  },
  {
   "cell_type": "markdown",
   "metadata": {},
   "source": [
    "The key conclusion here is:\n",
    "\n",
    "To convert a vector $v$, which can be represented as $p = 1 + v_x \\hat{i} + v_y \\hat{j} + v_z \\hat{k}$, from inertial coordinates to body coordinates, use:\n",
    "$$ q^{-1} p q$$\n",
    "and to convert from body to inertial coordinates use:\n",
    "$$ q p q^{-1} $$"
   ]
  },
  {
   "cell_type": "markdown",
   "metadata": {},
   "source": [
    "# Create coordinate system if heading is known\n",
    "\n",
    "If we know $\\psi$, how do we create the resultant coordinate system?  $\\psi$ can be determined from orientation quaternion from:\n",
    "$$ \\psi = \\mbox{atan2}[2(q_0 q_3 + q_1 q_2),\n",
    "                         1-2(q_2^2+q_3^2))]\n",
    "                         $$"
   ]
  },
  {
   "cell_type": "code",
   "execution_count": 16,
   "metadata": {},
   "outputs": [
    {
     "name": "stdout",
     "output_type": "stream",
     "text": [
      "Euler angles (roll, pitch, heading): [-20.  -5. -45.]\n",
      "Extracted Psi (heading): -45.00000000000001\n",
      "[  0.  -0. -45.]\n",
      "[ 0.70441603 -0.70441603  0.08715574]\n"
     ]
    }
   ],
   "source": [
    "q = quaternion.Quaternion.axis_angle(np.array([0,0,1.0]), -np.pi/4)\n",
    "q *= quaternion.Quaternion.axis_angle(np.array([0,1.0,0]), -5*np.pi/180)\n",
    "q *= quaternion.Quaternion.axis_angle(np.array([1.0,0,0]), -20*np.pi/180)\n",
    "print(\"Euler angles (roll, pitch, heading):\", q.euler_angles()*180/np.pi)\n",
    "print(\"Extracted Psi (heading):\", np.arctan2(2*(q[0]*q[3] + q[1]*q[2]), 1-2*(q[2]**2 + q[3]**2))*180/np.pi)\n",
    "\n",
    "# Quaternion of just heading rotation\n",
    "psi = np.arctan2(2*(q[0]*q[3] + q[1]*q[2]), 1-2*(q[2]**2 + q[3]**2))\n",
    "q_head = quaternion.Quaternion.axis_angle([0,0,1.0], psi)\n",
    "print(q_head.euler_angles()*180/np.pi)\n",
    "\n",
    "# Yet another way of doing this (that avoids the arctan), is zeroing out the z component of body axis translated to \n",
    "# inertial coords\n",
    "qi = (q*quaternion.Quaternion.from_vec([1.0,0,0])*q.inv()).as_ndarray()[1:]\n",
    "print(qi)\n"
   ]
  },
  {
   "cell_type": "markdown",
   "metadata": {},
   "source": [
    "## Centripital acceleration \n",
    "\n",
    "Centripital acceleration is given by $a_c = g \\tan \\phi $.  Let's do some example of translating acceleration due to gravity as well as centrifugal force into body coordinates.\n",
    "\n",
    "60 degree bank is convenient to use because we know it equates to a load factor of 2g. "
   ]
  },
  {
   "cell_type": "code",
   "execution_count": 22,
   "metadata": {},
   "outputs": [
    {
     "name": "stdout",
     "output_type": "stream",
     "text": [
      "Euler angles (roll, pitch, heading): [ 60.   0. -45.]\n",
      "[ 0.80010315  0.46193977 -0.19134172 -0.33141357]\n",
      "[ 5.55111512e-17 -1.11022302e-16  2.00000000e+00]\n"
     ]
    }
   ],
   "source": [
    "psi = 60*np.pi/180  \n",
    "q = quaternion.Quaternion.axis_angle(np.array([0,0,1.0]), -np.pi/4)\n",
    "q *= quaternion.Quaternion.axis_angle(np.array([1.0,0,0]), psi)\n",
    "print(\"Euler angles (roll, pitch, heading):\", q.euler_angles()*180/np.pi)\n",
    "print(q.as_ndarray())\n",
    "\n",
    "# vector, in inertial coords, in direction which ac acts\n",
    "v_ac = (q*quaternion.Quaternion.from_vec([0,-1.0,0])*q.inv()).as_ndarray()[1:]\n",
    "v_ac[2] = 0\n",
    "v_ac /= np.sqrt(v_ac[0]**2 + v_ac[1]**2)\n",
    "\n",
    "g = 1.0  # normalized g units for now\n",
    "\n",
    "a = np.array([0,0,g]) + v_ac*g*np.tan(psi)\n",
    "# Accel in body coordinates\n",
    "ab = (q.inv()*quaternion.Quaternion.from_vec(a)*q).as_ndarray()[1:]\n",
    "print(ab)"
   ]
  },
  {
   "cell_type": "code",
   "execution_count": null,
   "metadata": {},
   "outputs": [],
   "source": []
  }
 ],
 "metadata": {
  "kernelspec": {
   "display_name": "Python 3",
   "language": "python",
   "name": "python3"
  },
  "language_info": {
   "codemirror_mode": {
    "name": "ipython",
    "version": 3
   },
   "file_extension": ".py",
   "mimetype": "text/x-python",
   "name": "python",
   "nbconvert_exporter": "python",
   "pygments_lexer": "ipython3",
   "version": "3.6.9"
  }
 },
 "nbformat": 4,
 "nbformat_minor": 2
}
