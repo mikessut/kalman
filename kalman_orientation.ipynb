{
 "cells": [
  {
   "cell_type": "markdown",
   "metadata": {},
   "source": [
    "# Derivation of Kalman Filter update and predict equations\n",
    "\n",
    "The kinematic assumptions of this filter is that the body's acceleration is only due to gravity.\n",
    "\n",
    "The filter states are:\n",
    "\n",
    "| State Var | Description            | Units   |\n",
    "|:-----------|:------------------------|:---------:|\n",
    "| $q_0$      | Quaternion    |  |\n",
    "| $q_1$      | Quaternion   |  |\n",
    "| $q_2$      | Quaternion     |  |\n",
    "| $q_3$      | Quaternion     |  |\n",
    "| $\\omega_x$     | Body axis rotation rate | rad/s |\n",
    "| $\\omega_y$     | Body axis rotation rate | rad/s |\n",
    "| $\\omega_z$     | Body axis rotation rate | rad/s |\n",
    "| $\\omega_{bx}$     | Gyro bias | rad/s |\n",
    "| $\\omega_{by}$     | Gyro bias | rad/s |\n",
    "| $\\omega_{bz}$     | Gyro bias | rad/s |\n",
    "| $a_{bx}$     | Accel bias | m/s^2 |\n",
    "| $a_{by}$     | Accel bias | m/s^2 |\n",
    "| $a_{bz}$     | Accel bias | m/s^2 |\n",
    "\n",
    "Kalman Filter parameters:\n",
    "    \n",
    "| Parameter | Description |    \n",
    "| :--- | :--- |\n",
    "| $x$ | State vector ($n_{states} \\times 1$ ) |\n",
    "| $P$ | Covariance of states ($n_{states} \\times n_{states}$) |\n",
    "| $Q$ | Covariance of the prediction step. Can be thought of as how incorrect is the model used in the prediction step. ($n_{states} \\times n_{states}$) |\n",
    "| $F$ | For a standard Kalman filter, this is the matrix that when multiplied by $x$ generates the model prediction. ($n_{states} \\times n_{states}$) |\n",
    "| $R$ | Covariance of sensors ($n_{sensors} \\times n_{sensors}$) |\n",
    "| $H$ | Maps $x$ to sensor space. ($n_{sensors} \\times n_{states}$) |\n",
    "\n",
    "Prediction:\n",
    "$$\n",
    "\\boldsymbol{x_{k | k-1}} = f\\left( x_{k-1 | k-1} \\right) \n",
    "$$\n",
    "$$ P = F P F^T + Q $$\n",
    "\n",
    "Update:\n",
    "$$ \n",
    "\\begin{align}\n",
    "\\boldsymbol{y_k} &= z_k - h\\left( x_{k | k-1} \\right) \\\\\n",
    "S &= H P H^T + R \\\\\n",
    "K &= P H^T S^{-1} \\\\\n",
    "\\boldsymbol{x_{k|k}} &= x_{k | k-1} + K y \\\\\n",
    "P &= (I - K H) P \\\\ \n",
    "\\end{align}\n",
    "$$ \n",
    "\n",
    "$F$ and $H$ are the Jacobian matricies corresponding to the functions $f()$ and $h()$ respectively."
   ]
  },
  {
   "cell_type": "markdown",
   "metadata": {},
   "source": [
    "## Kalman Filter Prediction Equations"
   ]
  },
  {
   "cell_type": "code",
   "execution_count": 1,
   "metadata": {},
   "outputs": [
    {
     "name": "stdout",
     "output_type": "stream",
     "text": [
      "newq[0] = -0.5*dt*q1*wx - 0.5*dt*q2*wy - 0.5*dt*q3*wz + 1.0*q0\n",
      "newq[1] = 0.5*dt*q0*wx + 0.5*dt*q2*wz - 0.5*dt*q3*wy + 1.0*q1\n",
      "newq[2] = 0.5*dt*q0*wy - 0.5*dt*q1*wz + 0.5*dt*q3*wx + 1.0*q2\n",
      "newq[3] = 0.5*dt*q0*wz + 0.5*dt*q1*wy - 0.5*dt*q2*wx + 1.0*q3\n",
      "newq[4] = wx\n",
      "newq[5] = wy\n",
      "newq[6] = wz\n",
      "F[0, 0] = 1.00000000000000\n",
      "F[0, 1] = -0.5*dt*wx\n",
      "F[0, 2] = -0.5*dt*wy\n",
      "F[0, 3] = -0.5*dt*wz\n",
      "F[0, 4] = -0.5*dt*q1\n",
      "F[0, 5] = -0.5*dt*q2\n",
      "F[0, 6] = -0.5*dt*q3\n",
      "F[1, 0] = 0.5*dt*wx\n",
      "F[1, 1] = 1.00000000000000\n",
      "F[1, 2] = 0.5*dt*wz\n",
      "F[1, 3] = -0.5*dt*wy\n",
      "F[1, 4] = 0.5*dt*q0\n",
      "F[1, 5] = -0.5*dt*q3\n",
      "F[1, 6] = 0.5*dt*q2\n",
      "F[2, 0] = 0.5*dt*wy\n",
      "F[2, 1] = -0.5*dt*wz\n",
      "F[2, 2] = 1.00000000000000\n",
      "F[2, 3] = 0.5*dt*wx\n",
      "F[2, 4] = 0.5*dt*q3\n",
      "F[2, 5] = 0.5*dt*q0\n",
      "F[2, 6] = -0.5*dt*q1\n",
      "F[3, 0] = 0.5*dt*wz\n",
      "F[3, 1] = 0.5*dt*wy\n",
      "F[3, 2] = -0.5*dt*wx\n",
      "F[3, 3] = 1.00000000000000\n",
      "F[3, 4] = -0.5*dt*q2\n",
      "F[3, 5] = 0.5*dt*q1\n",
      "F[3, 6] = 0.5*dt*q0\n",
      "F[4, 4] = 1\n",
      "F[5, 5] = 1\n",
      "F[6, 6] = 1\n",
      "F[7, 7] = 1\n",
      "F[8, 8] = 1\n",
      "F[9, 9] = 1\n",
      "F[10, 10] = 1\n",
      "F[11, 11] = 1\n",
      "F[12, 12] = 1\n"
     ]
    }
   ],
   "source": [
    "from sympy import symbols, sqrt, diff, simplify\n",
    "import quaternion\n",
    "from quaternion import Quaternion\n",
    "import numpy as np\n",
    "\n",
    "quaternion.sqrt = sqrt\n",
    "\n",
    "q0, q1, q2, q3 = symbols(['q0', 'q1', 'q2', 'q3'])\n",
    "wx, wy, wz = symbols(['wx', 'wy', 'wz'])\n",
    "wbx, wby, wbz = symbols(['wbx', 'wby', 'wbz'])\n",
    "abx, aby, abz = symbols(['abx', 'aby', 'abz'])\n",
    "\n",
    "# Magnetometer sensor output\n",
    "mx, my, mz = symbols(['mx', 'my', 'mz'])\n",
    "dt = symbols('dt')\n",
    "states = [q0, q1, q2, q3, wx, wy, wz, wbx, wby, wbz, abx, aby, abz]\n",
    "# Predict\n",
    "\n",
    "q = Quaternion(q0, q1, q2, q3) * Quaternion(1.0, .5*wx*dt, .5*wy*dt, .5*wz*dt)\n",
    "#q.normalize()\n",
    "\n",
    "nextstate = [q[0], q[1], q[2], q[3], wx, wy, wz, wbx, wby, wbz, abx, aby, abz]\n",
    "for n in range(7):\n",
    "    print(f\"newq[{n}] = {nextstate[n]}\")\n",
    "\n",
    "F = np.zeros((13, 13), dtype=object)\n",
    "for n in range(13):\n",
    "    for m in range(13):\n",
    "        tmp = (diff(nextstate[n], states[m]))\n",
    "        F[n, m] = tmp\n",
    "        if tmp != 0:\n",
    "            print(f\"F[{n}, {m}] = {tmp}\")\n"
   ]
  },
  {
   "cell_type": "markdown",
   "metadata": {},
   "source": [
    "## Accelerometer update"
   ]
  },
  {
   "cell_type": "code",
   "execution_count": 2,
   "metadata": {},
   "outputs": [
    {
     "name": "stdout",
     "output_type": "stream",
     "text": [
      "H[0, 0] = 39.2*q0**2*q2/(q0**2 + q1**2 + q2**2 + q3**2)**2 - 39.2*q0*q1*q3/(q0**2 + q1**2 + q2**2 + q3**2)**2 - 19.6*q2/(q0**2 + q1**2 + q2**2 + q3**2)\n",
      "H[0, 1] = 39.2*q0*q1*q2/(q0**2 + q1**2 + q2**2 + q3**2)**2 - 39.2*q1**2*q3/(q0**2 + q1**2 + q2**2 + q3**2)**2 + 19.6*q3/(q0**2 + q1**2 + q2**2 + q3**2)\n",
      "H[0, 2] = 39.2*q0*q2**2/(q0**2 + q1**2 + q2**2 + q3**2)**2 - 19.6*q0/(q0**2 + q1**2 + q2**2 + q3**2) - 39.2*q1*q2*q3/(q0**2 + q1**2 + q2**2 + q3**2)**2\n",
      "H[0, 3] = 39.2*q0*q2*q3/(q0**2 + q1**2 + q2**2 + q3**2)**2 - 39.2*q1*q3**2/(q0**2 + q1**2 + q2**2 + q3**2)**2 + 19.6*q1/(q0**2 + q1**2 + q2**2 + q3**2)\n",
      "H[0, 10] = 1\n",
      "H[1, 0] = -39.2*q0**2*q1/(q0**2 + q1**2 + q2**2 + q3**2)**2 - 39.2*q0*q2*q3/(q0**2 + q1**2 + q2**2 + q3**2)**2 + 19.6*q1/(q0**2 + q1**2 + q2**2 + q3**2)\n",
      "H[1, 1] = -39.2*q0*q1**2/(q0**2 + q1**2 + q2**2 + q3**2)**2 + 19.6*q0/(q0**2 + q1**2 + q2**2 + q3**2) - 39.2*q1*q2*q3/(q0**2 + q1**2 + q2**2 + q3**2)**2\n",
      "H[1, 2] = -39.2*q0*q1*q2/(q0**2 + q1**2 + q2**2 + q3**2)**2 - 39.2*q2**2*q3/(q0**2 + q1**2 + q2**2 + q3**2)**2 + 19.6*q3/(q0**2 + q1**2 + q2**2 + q3**2)\n",
      "H[1, 3] = -39.2*q0*q1*q3/(q0**2 + q1**2 + q2**2 + q3**2)**2 - 39.2*q2*q3**2/(q0**2 + q1**2 + q2**2 + q3**2)**2 + 19.6*q2/(q0**2 + q1**2 + q2**2 + q3**2)\n",
      "H[1, 11] = 1\n",
      "H[2, 0] = -19.6*q0**3/(q0**2 + q1**2 + q2**2 + q3**2)**2 + 19.6*q0*q1**2/(q0**2 + q1**2 + q2**2 + q3**2)**2 + 19.6*q0*q2**2/(q0**2 + q1**2 + q2**2 + q3**2)**2 - 19.6*q0*q3**2/(q0**2 + q1**2 + q2**2 + q3**2)**2 + 19.6*q0/(q0**2 + q1**2 + q2**2 + q3**2)\n",
      "H[2, 1] = -19.6*q0**2*q1/(q0**2 + q1**2 + q2**2 + q3**2)**2 + 19.6*q1**3/(q0**2 + q1**2 + q2**2 + q3**2)**2 + 19.6*q1*q2**2/(q0**2 + q1**2 + q2**2 + q3**2)**2 - 19.6*q1*q3**2/(q0**2 + q1**2 + q2**2 + q3**2)**2 - 19.6*q1/(q0**2 + q1**2 + q2**2 + q3**2)\n",
      "H[2, 2] = -19.6*q0**2*q2/(q0**2 + q1**2 + q2**2 + q3**2)**2 + 19.6*q1**2*q2/(q0**2 + q1**2 + q2**2 + q3**2)**2 + 19.6*q2**3/(q0**2 + q1**2 + q2**2 + q3**2)**2 - 19.6*q2*q3**2/(q0**2 + q1**2 + q2**2 + q3**2)**2 - 19.6*q2/(q0**2 + q1**2 + q2**2 + q3**2)\n",
      "H[2, 3] = -19.6*q0**2*q3/(q0**2 + q1**2 + q2**2 + q3**2)**2 + 19.6*q1**2*q3/(q0**2 + q1**2 + q2**2 + q3**2)**2 + 19.6*q2**2*q3/(q0**2 + q1**2 + q2**2 + q3**2)**2 - 19.6*q3**3/(q0**2 + q1**2 + q2**2 + q3**2)**2 + 19.6*q3/(q0**2 + q1**2 + q2**2 + q3**2)\n",
      "H[2, 12] = 1\n"
     ]
    }
   ],
   "source": [
    "q = Quaternion(q0, q1, q2, q3)\n",
    "g = np.array([0,0,9.8], dtype=float)\n",
    "accel = (q.inv() * Quaternion.from_vec(g) * q).as_ndarray()[1:] + np.array([abx, aby, abz])\n",
    "H = np.zeros((3, 13), dtype=object)\n",
    "for n in range(3):\n",
    "    for m in range(13):\n",
    "        tmp = diff(accel[n], states[m])\n",
    "        H[n, m] = tmp\n",
    "        if tmp != 0:\n",
    "            print(f\"H[{n}, {m}] = {tmp}\")"
   ]
  },
  {
   "cell_type": "markdown",
   "metadata": {},
   "source": [
    "## Gyro update"
   ]
  },
  {
   "cell_type": "code",
   "execution_count": 3,
   "metadata": {},
   "outputs": [
    {
     "name": "stdout",
     "output_type": "stream",
     "text": [
      "H[0, 4] = 1\n",
      "H[0, 7] = 1\n",
      "H[1, 5] = 1\n",
      "H[1, 8] = 1\n",
      "H[2, 6] = 1\n",
      "H[2, 9] = 1\n"
     ]
    }
   ],
   "source": [
    "gyros = np.array([wx,wy,wz]) + np.array([wbx, wby, wbz])\n",
    "H = np.zeros((3, 13), dtype=object)\n",
    "for n in range(3):\n",
    "    for m in range(13):\n",
    "        tmp = diff(gyros[n], states[m])\n",
    "        H[n, m] = tmp\n",
    "        if tmp != 0:\n",
    "            print(f\"H[{n}, {m}] = {tmp}\")"
   ]
  },
  {
   "cell_type": "markdown",
   "metadata": {},
   "source": [
    "## Magnetometer Update\n",
    "\n",
    "\n",
    "Only consider the normalized vector projected onto the global xy plane\n",
    "\n",
    "1.  Rotate the magnetometer measurement to global coordinates\n",
    "2.  Only look at component in xy plane and normalize.\n",
    "3.  Rotate this back to body coordinates -- this is the \"measurement\n",
    "\n",
    "Kalman eqn:\n",
    "$$y = z - H*x$$\n",
    "innovation = measurement - (func translate state to measurement)"
   ]
  },
  {
   "cell_type": "code",
   "execution_count": 4,
   "metadata": {},
   "outputs": [
    {
     "name": "stdout",
     "output_type": "stream",
     "text": [
      "H[0, 0] = -2.0*q0**3/(q0**2 + q1**2 + q2**2 + q3**2)**2 - 2.0*q0*q1**2/(q0**2 + q1**2 + q2**2 + q3**2)**2 + 2.0*q0*q2**2/(q0**2 + q1**2 + q2**2 + q3**2)**2 + 2.0*q0*q3**2/(q0**2 + q1**2 + q2**2 + q3**2)**2 + 2.0*q0/(q0**2 + q1**2 + q2**2 + q3**2)\n",
      "H[0, 1] = -2.0*q0**2*q1/(q0**2 + q1**2 + q2**2 + q3**2)**2 - 2.0*q1**3/(q0**2 + q1**2 + q2**2 + q3**2)**2 + 2.0*q1*q2**2/(q0**2 + q1**2 + q2**2 + q3**2)**2 + 2.0*q1*q3**2/(q0**2 + q1**2 + q2**2 + q3**2)**2 + 2.0*q1/(q0**2 + q1**2 + q2**2 + q3**2)\n",
      "H[0, 2] = -2.0*q0**2*q2/(q0**2 + q1**2 + q2**2 + q3**2)**2 - 2.0*q1**2*q2/(q0**2 + q1**2 + q2**2 + q3**2)**2 + 2.0*q2**3/(q0**2 + q1**2 + q2**2 + q3**2)**2 + 2.0*q2*q3**2/(q0**2 + q1**2 + q2**2 + q3**2)**2 - 2.0*q2/(q0**2 + q1**2 + q2**2 + q3**2)\n",
      "H[0, 3] = -2.0*q0**2*q3/(q0**2 + q1**2 + q2**2 + q3**2)**2 - 2.0*q1**2*q3/(q0**2 + q1**2 + q2**2 + q3**2)**2 + 2.0*q2**2*q3/(q0**2 + q1**2 + q2**2 + q3**2)**2 + 2.0*q3**3/(q0**2 + q1**2 + q2**2 + q3**2)**2 - 2.0*q3/(q0**2 + q1**2 + q2**2 + q3**2)\n",
      "H[1, 0] = 4.0*q0**2*q3/(q0**2 + q1**2 + q2**2 + q3**2)**2 - 4.0*q0*q1*q2/(q0**2 + q1**2 + q2**2 + q3**2)**2 - 2.0*q3/(q0**2 + q1**2 + q2**2 + q3**2)\n",
      "H[1, 1] = 4.0*q0*q1*q3/(q0**2 + q1**2 + q2**2 + q3**2)**2 - 4.0*q1**2*q2/(q0**2 + q1**2 + q2**2 + q3**2)**2 + 2.0*q2/(q0**2 + q1**2 + q2**2 + q3**2)\n",
      "H[1, 2] = 4.0*q0*q2*q3/(q0**2 + q1**2 + q2**2 + q3**2)**2 - 4.0*q1*q2**2/(q0**2 + q1**2 + q2**2 + q3**2)**2 + 2.0*q1/(q0**2 + q1**2 + q2**2 + q3**2)\n",
      "H[1, 3] = 4.0*q0*q3**2/(q0**2 + q1**2 + q2**2 + q3**2)**2 - 2.0*q0/(q0**2 + q1**2 + q2**2 + q3**2) - 4.0*q1*q2*q3/(q0**2 + q1**2 + q2**2 + q3**2)**2\n",
      "H[2, 0] = -4.0*q0**2*q2/(q0**2 + q1**2 + q2**2 + q3**2)**2 - 4.0*q0*q1*q3/(q0**2 + q1**2 + q2**2 + q3**2)**2 + 2.0*q2/(q0**2 + q1**2 + q2**2 + q3**2)\n",
      "H[2, 1] = -4.0*q0*q1*q2/(q0**2 + q1**2 + q2**2 + q3**2)**2 - 4.0*q1**2*q3/(q0**2 + q1**2 + q2**2 + q3**2)**2 + 2.0*q3/(q0**2 + q1**2 + q2**2 + q3**2)\n",
      "H[2, 2] = -4.0*q0*q2**2/(q0**2 + q1**2 + q2**2 + q3**2)**2 + 2.0*q0/(q0**2 + q1**2 + q2**2 + q3**2) - 4.0*q1*q2*q3/(q0**2 + q1**2 + q2**2 + q3**2)**2\n",
      "H[2, 3] = -4.0*q0*q2*q3/(q0**2 + q1**2 + q2**2 + q3**2)**2 - 4.0*q1*q3**2/(q0**2 + q1**2 + q2**2 + q3**2)**2 + 2.0*q1/(q0**2 + q1**2 + q2**2 + q3**2)\n"
     ]
    }
   ],
   "source": [
    "q = Quaternion(q0, q1, q2, q3)\n",
    "mag_inertial = (q * Quaternion.from_vec(np.array([mx, my, mz])) * q.inv()).as_ndarray()[1:]\n",
    "mag_inertial[2] = 0\n",
    "mag_inertial /= sqrt(mag_inertial[0]**2 + mag_inertial[1]**2)\n",
    "\n",
    "mag_body = (q.inv() * Quaternion.from_vec(mag_inertial) * q).as_ndarray()[1:]\n",
    "\n",
    "# Only portion that we need to determin Jacobian is transvering \"north vector\"\n",
    "# to body coordinates\n",
    "\n",
    "north_body = (q.inv() * Quaternion.from_vec(np.array([1.0, 0, 0])) * q).as_ndarray()[1:]\n",
    "H = np.zeros((3, 13), dtype=object)\n",
    "for n in range(3):\n",
    "    for m in range(13):\n",
    "        tmp = diff(north_body[n], states[m])\n",
    "        H[n, m] = tmp\n",
    "        if tmp != 0:\n",
    "            print(f\"H[{n}, {m}] = {tmp}\")"
   ]
  },
  {
   "cell_type": "code",
   "execution_count": null,
   "metadata": {},
   "outputs": [],
   "source": []
  }
 ],
 "metadata": {
  "kernelspec": {
   "display_name": "Python 3",
   "language": "python",
   "name": "python3"
  },
  "language_info": {
   "codemirror_mode": {
    "name": "ipython",
    "version": 3
   },
   "file_extension": ".py",
   "mimetype": "text/x-python",
   "name": "python",
   "nbconvert_exporter": "python",
   "pygments_lexer": "ipython3",
   "version": "3.6.9"
  }
 },
 "nbformat": 4,
 "nbformat_minor": 2
}
