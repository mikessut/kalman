{
 "cells": [
  {
   "cell_type": "code",
   "execution_count": 1,
   "metadata": {},
   "outputs": [],
   "source": [
    "from sympy import *\n",
    "import numpy as np\n",
    "import quaternion\n",
    "from DCM_sym import HEB\n",
    "#init_printing()"
   ]
  },
  {
   "cell_type": "code",
   "execution_count": null,
   "metadata": {},
   "outputs": [],
   "source": []
  },
  {
   "cell_type": "markdown",
   "metadata": {},
   "source": [
    "\n",
    "Given that $q$ is a quaternion representation of the vehicles orientation and a vector is represented as a quaternion where the real part is zero and the i,j,k components are the vector (`quaternion.Quaternion.from_vec(some_vector)`).\n",
    "\n",
    "To convert from inertial to body coordinate system:\n",
    "$$\n",
    "v_{body} = q^{-1} v_{inertial} q\n",
    "$$\n",
    "and to convert from body to inertial coordinate system:\n",
    "$$\n",
    "v_{inertial} = q v_{body} q^{-1}\n",
    "$$"
   ]
  },
  {
   "cell_type": "markdown",
   "metadata": {},
   "source": [
    "| State Var | Description            | Units   |\n",
    "|:-----------|:------------------------|:---------:|\n",
    "| $q_0$      | Quaternion    |  |\n",
    "| $q_1$      | Quaternion   |  |\n",
    "| $q_2$      | Quaternion     |  |\n",
    "| $q_3$      | Quaternion     |  |\n",
    "| $a_x$     | Body axis acceleration | m/s$^2$ |\n",
    "| $a_y$     | Body axis acceleration | m/s$^2$ |\n",
    "| $a_z$     | Body axis acceleration | m/s$^2$ |\n",
    "| $w_x$     | Body axis rotation rate | rad/s |\n",
    "| $w_y$     | Body axis rotation rate | rad/s |\n",
    "| $w_z$     | Body axis rotation rate | rad/s |\n",
    "| $TAS$     | True airspeed          | m/s |"
   ]
  },
  {
   "cell_type": "code",
   "execution_count": 2,
   "metadata": {},
   "outputs": [],
   "source": [
    "q0, q1, q2, q3 = symbols(['q0', 'q1', 'q2', 'q3'])\n",
    "wx, wy, wz = symbols(['wx', 'wy', 'wz'])\n",
    "ax, ay, az = symbols(['ax', 'ay', 'az'])\n",
    "tas = symbols('tas')\n",
    "state = [q0, q1, q2, q3, ax, ay, az, wx, wy, wz, tas]\n",
    "\n",
    "g = symbols('g')\n",
    "dt = symbols('dt')"
   ]
  },
  {
   "cell_type": "markdown",
   "metadata": {},
   "source": [
    "The model used for this filter is an assumption of coordinated flight.  Using this assumption, we can calculate the [rate of rotation](https://en.wikipedia.org/wiki/Standard_rate_turn) (about inertial z axis) and [centripital acceleration](https://en.wikipedia.org/wiki/Centripetal_force) due to this rotation.  \n",
    "\n",
    "Centripital acceleration derivation by considering the triangle of a banked airplane with one leg of centripital acceleration and the other gravity.\n",
    "$$ \\tan \\phi = \\frac{a_c}{g} $$\n",
    "where $\\phi$ is the angle of bank.  $a_c=v^2/r$ so this equation can also be expressed as:\n",
    "$$ \\tan \\phi = \\frac{v^2}{r g} $$\n",
    "\n",
    "Rate of rotation derivation. The aircraft completes a full rotation of a circle of radius $r$ in $2\\pi r/v$ seconds.  Therefore, the rate of rotation (in inertial coordinates) can be written as:\n",
    "$$ \\dot{\\psi} = \\frac{2 \\pi v}{2\\pi r} = \\frac{v}{r} = a_c/v $$\n",
    "The rate of rotation simplifies to:\n",
    "$$ \\dot{\\psi} = \\frac{g}{v} \\tan \\phi $$"
   ]
  },
  {
   "cell_type": "markdown",
   "metadata": {},
   "source": [
    "We will use the [Euler angles](https://en.wikipedia.org/wiki/Euler_angles#Tait%E2%80%93Bryan_angles) (more properly, they are the Tait-Bryan convention) for $\\phi$ in the above equations as well as to create an intermediate coordinate system where the $y$ axis is the direction of the centripetal acceleration."
   ]
  },
  {
   "cell_type": "code",
   "execution_count": 3,
   "metadata": {},
   "outputs": [
    {
     "name": "stdout",
     "output_type": "stream",
     "text": [
      "Roll from quaternion: atan2(2*q0*q1 + 2*q2*q3, -2*q1**2 - 2*q2**2 + 1)\n",
      "Heading from quaternion: atan2(2*q0*q3 + 2*q1*q2, -2*q2**2 - 2*q3**2 + 1)\n"
     ]
    }
   ],
   "source": [
    "quaternion.arctan2 = atan2  # Make quaternion use symbolic functions\n",
    "quaternion.arcsin = asin\n",
    "quaternion.sqrt = sqrt\n",
    "q = quaternion.Quaternion(q0,q1,q2,q3)\n",
    "print(\"Roll from quaternion:\", q.euler_angles()[0])\n",
    "print(\"Heading from quaternion:\", q.euler_angles()[2])"
   ]
  },
  {
   "cell_type": "markdown",
   "metadata": {},
   "source": [
    "We now have enought information to start working through the Kalman filter update equations."
   ]
  },
  {
   "cell_type": "code",
   "execution_count": 29,
   "metadata": {},
   "outputs": [
    {
     "name": "stdout",
     "output_type": "stream",
     "text": [
      "q0 = -dt*q1*wx/2 - dt*q2*wy/2 - dt*q3*wz/2 + q0\n",
      "q1 = dt*q0*wx/2 + dt*q2*wz/2 - dt*q3*wy/2 + q1\n",
      "q2 = dt*q0*wy/2 - dt*q1*wz/2 + dt*q3*wx/2 + q2\n",
      "q3 = dt*q0*wz/2 + dt*q1*wy/2 - dt*q2*wx/2 + q3\n",
      "ax = q0*(0.5*g*q0*(2*q0*q1 + 2*q2*q3)*(2.0*q0*q3 - 2.0*q1*q2)/(sqrt((q0*q3 - q1*q2)**2 + 0.25*(-1.0*q0**2 + 1.0*q1**2 - 1.0*q2**2 + 1.0*q3**2)**2)*(-2*q1**2 - 2*q2**2 + 1)) - g*q2 + 0.5*g*q3*(2*q0*q1 + 2*q2*q3)*(-1.0*q0**2 + 1.0*q1**2 - 1.0*q2**2 + 1.0*q3**2)/(sqrt((q0*q3 - q1*q2)**2 + 0.25*(-1.0*q0**2 + 1.0*q1**2 - 1.0*q2**2 + 1.0*q3**2)**2)*(-2*q1**2 - 2*q2**2 + 1))) + q1*(0.5*g*q1*(2*q0*q1 + 2*q2*q3)*(2.0*q0*q3 - 2.0*q1*q2)/(sqrt((q0*q3 - q1*q2)**2 + 0.25*(-1.0*q0**2 + 1.0*q1**2 - 1.0*q2**2 + 1.0*q3**2)**2)*(-2*q1**2 - 2*q2**2 + 1)) + 0.5*g*q2*(2*q0*q1 + 2*q2*q3)*(-1.0*q0**2 + 1.0*q1**2 - 1.0*q2**2 + 1.0*q3**2)/(sqrt((q0*q3 - q1*q2)**2 + 0.25*(-1.0*q0**2 + 1.0*q1**2 - 1.0*q2**2 + 1.0*q3**2)**2)*(-2*q1**2 - 2*q2**2 + 1)) + g*q3) - q2*(g*q0 - 0.5*g*q1*(2*q0*q1 + 2*q2*q3)*(-1.0*q0**2 + 1.0*q1**2 - 1.0*q2**2 + 1.0*q3**2)/(sqrt((q0*q3 - q1*q2)**2 + 0.25*(-1.0*q0**2 + 1.0*q1**2 - 1.0*q2**2 + 1.0*q3**2)**2)*(-2*q1**2 - 2*q2**2 + 1)) + 0.5*g*q2*(2*q0*q1 + 2*q2*q3)*(2.0*q0*q3 - 2.0*q1*q2)/(sqrt((q0*q3 - q1*q2)**2 + 0.25*(-1.0*q0**2 + 1.0*q1**2 - 1.0*q2**2 + 1.0*q3**2)**2)*(-2*q1**2 - 2*q2**2 + 1))) + q3*(0.5*g*q0*(2*q0*q1 + 2*q2*q3)*(-1.0*q0**2 + 1.0*q1**2 - 1.0*q2**2 + 1.0*q3**2)/(sqrt((q0*q3 - q1*q2)**2 + 0.25*(-1.0*q0**2 + 1.0*q1**2 - 1.0*q2**2 + 1.0*q3**2)**2)*(-2*q1**2 - 2*q2**2 + 1)) + g*q1 - 0.5*g*q3*(2*q0*q1 + 2*q2*q3)*(2.0*q0*q3 - 2.0*q1*q2)/(sqrt((q0*q3 - q1*q2)**2 + 0.25*(-1.0*q0**2 + 1.0*q1**2 - 1.0*q2**2 + 1.0*q3**2)**2)*(-2*q1**2 - 2*q2**2 + 1)))\n",
      "ay = q0*(0.5*g*q0*(2*q0*q1 + 2*q2*q3)*(-1.0*q0**2 + 1.0*q1**2 - 1.0*q2**2 + 1.0*q3**2)/(sqrt((q0*q3 - q1*q2)**2 + 0.25*(-1.0*q0**2 + 1.0*q1**2 - 1.0*q2**2 + 1.0*q3**2)**2)*(-2*q1**2 - 2*q2**2 + 1)) + g*q1 - 0.5*g*q3*(2*q0*q1 + 2*q2*q3)*(2.0*q0*q3 - 2.0*q1*q2)/(sqrt((q0*q3 - q1*q2)**2 + 0.25*(-1.0*q0**2 + 1.0*q1**2 - 1.0*q2**2 + 1.0*q3**2)**2)*(-2*q1**2 - 2*q2**2 + 1))) + q1*(g*q0 - 0.5*g*q1*(2*q0*q1 + 2*q2*q3)*(-1.0*q0**2 + 1.0*q1**2 - 1.0*q2**2 + 1.0*q3**2)/(sqrt((q0*q3 - q1*q2)**2 + 0.25*(-1.0*q0**2 + 1.0*q1**2 - 1.0*q2**2 + 1.0*q3**2)**2)*(-2*q1**2 - 2*q2**2 + 1)) + 0.5*g*q2*(2*q0*q1 + 2*q2*q3)*(2.0*q0*q3 - 2.0*q1*q2)/(sqrt((q0*q3 - q1*q2)**2 + 0.25*(-1.0*q0**2 + 1.0*q1**2 - 1.0*q2**2 + 1.0*q3**2)**2)*(-2*q1**2 - 2*q2**2 + 1))) + q2*(0.5*g*q1*(2*q0*q1 + 2*q2*q3)*(2.0*q0*q3 - 2.0*q1*q2)/(sqrt((q0*q3 - q1*q2)**2 + 0.25*(-1.0*q0**2 + 1.0*q1**2 - 1.0*q2**2 + 1.0*q3**2)**2)*(-2*q1**2 - 2*q2**2 + 1)) + 0.5*g*q2*(2*q0*q1 + 2*q2*q3)*(-1.0*q0**2 + 1.0*q1**2 - 1.0*q2**2 + 1.0*q3**2)/(sqrt((q0*q3 - q1*q2)**2 + 0.25*(-1.0*q0**2 + 1.0*q1**2 - 1.0*q2**2 + 1.0*q3**2)**2)*(-2*q1**2 - 2*q2**2 + 1)) + g*q3) - q3*(0.5*g*q0*(2*q0*q1 + 2*q2*q3)*(2.0*q0*q3 - 2.0*q1*q2)/(sqrt((q0*q3 - q1*q2)**2 + 0.25*(-1.0*q0**2 + 1.0*q1**2 - 1.0*q2**2 + 1.0*q3**2)**2)*(-2*q1**2 - 2*q2**2 + 1)) - g*q2 + 0.5*g*q3*(2*q0*q1 + 2*q2*q3)*(-1.0*q0**2 + 1.0*q1**2 - 1.0*q2**2 + 1.0*q3**2)/(sqrt((q0*q3 - q1*q2)**2 + 0.25*(-1.0*q0**2 + 1.0*q1**2 - 1.0*q2**2 + 1.0*q3**2)**2)*(-2*q1**2 - 2*q2**2 + 1)))\n",
      "az = q0*(g*q0 - 0.5*g*q1*(2*q0*q1 + 2*q2*q3)*(-1.0*q0**2 + 1.0*q1**2 - 1.0*q2**2 + 1.0*q3**2)/(sqrt((q0*q3 - q1*q2)**2 + 0.25*(-1.0*q0**2 + 1.0*q1**2 - 1.0*q2**2 + 1.0*q3**2)**2)*(-2*q1**2 - 2*q2**2 + 1)) + 0.5*g*q2*(2*q0*q1 + 2*q2*q3)*(2.0*q0*q3 - 2.0*q1*q2)/(sqrt((q0*q3 - q1*q2)**2 + 0.25*(-1.0*q0**2 + 1.0*q1**2 - 1.0*q2**2 + 1.0*q3**2)**2)*(-2*q1**2 - 2*q2**2 + 1))) - q1*(0.5*g*q0*(2*q0*q1 + 2*q2*q3)*(-1.0*q0**2 + 1.0*q1**2 - 1.0*q2**2 + 1.0*q3**2)/(sqrt((q0*q3 - q1*q2)**2 + 0.25*(-1.0*q0**2 + 1.0*q1**2 - 1.0*q2**2 + 1.0*q3**2)**2)*(-2*q1**2 - 2*q2**2 + 1)) + g*q1 - 0.5*g*q3*(2*q0*q1 + 2*q2*q3)*(2.0*q0*q3 - 2.0*q1*q2)/(sqrt((q0*q3 - q1*q2)**2 + 0.25*(-1.0*q0**2 + 1.0*q1**2 - 1.0*q2**2 + 1.0*q3**2)**2)*(-2*q1**2 - 2*q2**2 + 1))) + q2*(0.5*g*q0*(2*q0*q1 + 2*q2*q3)*(2.0*q0*q3 - 2.0*q1*q2)/(sqrt((q0*q3 - q1*q2)**2 + 0.25*(-1.0*q0**2 + 1.0*q1**2 - 1.0*q2**2 + 1.0*q3**2)**2)*(-2*q1**2 - 2*q2**2 + 1)) - g*q2 + 0.5*g*q3*(2*q0*q1 + 2*q2*q3)*(-1.0*q0**2 + 1.0*q1**2 - 1.0*q2**2 + 1.0*q3**2)/(sqrt((q0*q3 - q1*q2)**2 + 0.25*(-1.0*q0**2 + 1.0*q1**2 - 1.0*q2**2 + 1.0*q3**2)**2)*(-2*q1**2 - 2*q2**2 + 1))) + q3*(0.5*g*q1*(2*q0*q1 + 2*q2*q3)*(2.0*q0*q3 - 2.0*q1*q2)/(sqrt((q0*q3 - q1*q2)**2 + 0.25*(-1.0*q0**2 + 1.0*q1**2 - 1.0*q2**2 + 1.0*q3**2)**2)*(-2*q1**2 - 2*q2**2 + 1)) + 0.5*g*q2*(2*q0*q1 + 2*q2*q3)*(-1.0*q0**2 + 1.0*q1**2 - 1.0*q2**2 + 1.0*q3**2)/(sqrt((q0*q3 - q1*q2)**2 + 0.25*(-1.0*q0**2 + 1.0*q1**2 - 1.0*q2**2 + 1.0*q3**2)**2)*(-2*q1**2 - 2*q2**2 + 1)) + g*q3)\n",
      "wx = 2*g*q0*q2*(2*q0*q1 + 2*q2*q3)/(tas*(-2*q1**2 - 2*q2**2 + 1)) - 2*g*q1*q3*(2*q0*q1 + 2*q2*q3)/(tas*(-2*q1**2 - 2*q2**2 + 1))\n",
      "wy = -2*g*q0*q1*(2*q0*q1 + 2*q2*q3)/(tas*(-2*q1**2 - 2*q2**2 + 1)) - 2*g*q2*q3*(2*q0*q1 + 2*q2*q3)/(tas*(-2*q1**2 - 2*q2**2 + 1))\n",
      "wz = -g*q0**2*(2*q0*q1 + 2*q2*q3)/(tas*(-2*q1**2 - 2*q2**2 + 1)) + g*q1**2*(2*q0*q1 + 2*q2*q3)/(tas*(-2*q1**2 - 2*q2**2 + 1)) + g*q2**2*(2*q0*q1 + 2*q2*q3)/(tas*(-2*q1**2 - 2*q2**2 + 1)) - g*q3**2*(2*q0*q1 + 2*q2*q3)/(tas*(-2*q1**2 - 2*q2**2 + 1))\n",
      "tas = ax*dt + tas\n"
     ]
    }
   ],
   "source": [
    "# Couple options here:\n",
    "# 1) Propagate by current state rotations with very low Kalman Q components\n",
    "# 2) Assume coordinated flight with higher Kalman Q components\n",
    "qdelta = quaternion.Quaternion(1, wx/2*dt, wy/2*dt, wz/2*dt)  # small angle approximation of rotation\n",
    "qnext = quaternion.Quaternion(q0,q1,q2,q3)*qdelta   # Option 1\n",
    "\n",
    "# Option 2\n",
    "phi = atan2(2*q0*q1 + 2*q2*q3, -2*q1**2 - 2*q2**2 + 1)\n",
    "psi = -g/tas*tan(phi)\n",
    "#qnext = quaternion.Quaternion(1, 0, 0, .5*psi*dt)*quaternion.Quaternion(q0,q1,q2,q3)\n",
    "#qnext.normalize()\n",
    "\n",
    "ag = np.array([0,0,g])  \n",
    "\n",
    "\n",
    "# vector, in inertial coords, in direction which ac acts\n",
    "v_ac = (q*quaternion.Quaternion.from_vec([0,-1.0,0])*q.inv()).as_ndarray()[1:]\n",
    "v_ac[2] = 0\n",
    "v_ac /= sqrt(v_ac[0]**2 + v_ac[1]**2)\n",
    "\n",
    "ac = v_ac*g*tan(phi)\n",
    "a = ag + ac\n",
    "\n",
    "ab = (q.inv()*quaternion.Quaternion.from_vec(a)*q).as_ndarray()[1:]\n",
    "\n",
    "wpredict = (q.inv()*quaternion.Quaternion.from_vec([0,0,-g/tas*tan(phi)])*q).as_ndarray()[1:]\n",
    "statenext = np.concatenate([qnext.as_ndarray(), ab, wpredict, [tas + ax*dt]])\n",
    "statenext = np.array([x.subs(q0**2+q1**2+q2**2+q3**2,1) for x in statenext])\n",
    "for n in range(len(state)):\n",
    "    print(f\"{state[n]} = {statenext[n]}\")"
   ]
  },
  {
   "cell_type": "code",
   "execution_count": 28,
   "metadata": {
    "scrolled": true
   },
   "outputs": [
    {
     "name": "stdout",
     "output_type": "stream",
     "text": [
      "Euler angles (roll, pitch, heading): [60.0000000000000 10.0000000000000 -45.0000000000000]\n",
      "Accels:\n",
      "-0.664938106127251*g\n",
      "-0.0514797425612272*g\n",
      "1.88552569622526*g\n",
      "Inertial rotation rates:\n",
      "5.55111512312578e-17*g/tas\n",
      "1.66533453693773e-16*g/tas\n",
      "-1.73205080756888*g/tas\n"
     ]
    }
   ],
   "source": [
    "# Check 60 degree bank to the right, given by q: [ 0.80010315  0.46193977 -0.19134172 -0.33141357]\n",
    "# Should be 2g load factor\n",
    "# Rate of turn should be: g/tas*tan(60) = g/tas*1.73\n",
    "psi = 60*np.pi/180  \n",
    "q60 = quaternion.Quaternion.axis_angle(np.array([0,0,1.0]), -np.pi/4)\n",
    "q60 = q60*quaternion.Quaternion.axis_angle(np.array([0,1.0,0]), 10*np.pi/180)  # pitch down\n",
    "q60 = q60*quaternion.Quaternion.axis_angle(np.array([1.0,0,0]), psi)\n",
    "print(\"Euler angles (roll, pitch, heading):\", q60.euler_angles()*180/np.pi)\n",
    "q60 = q60.as_ndarray()\n",
    "print(\"Accels:\")\n",
    "for n in range(4,7):\n",
    "    tmp = statenext[n]\n",
    "    for m in range(4):\n",
    "        tmp = tmp.subs([q0,q1,q2,q3][m], q60[m])\n",
    "    print(tmp)\n",
    "    \n",
    "print(\"Inertial rotation rates:\")\n",
    "q = quaternion.Quaternion(q0,q1,q2,q3)\n",
    "w_inertial = (q*quaternion.Quaternion.from_vec(statenext[7:10])*q.inv()).as_ndarray()[1:]\n",
    "for n in range(3):\n",
    "    tmp = w_inertial[n]\n",
    "    for m in range(4):\n",
    "        tmp = tmp.subs([q0,q1,q2,q3][m], q60[m])\n",
    "    print(tmp)"
   ]
  },
  {
   "cell_type": "code",
   "execution_count": 19,
   "metadata": {},
   "outputs": [
    {
     "name": "stdout",
     "output_type": "stream",
     "text": [
      "1.7320508075688767\n"
     ]
    }
   ],
   "source": [
    "print(np.tan(60*np.pi/180))"
   ]
  },
  {
   "cell_type": "code",
   "execution_count": null,
   "metadata": {},
   "outputs": [],
   "source": []
  }
 ],
 "metadata": {
  "kernelspec": {
   "display_name": "Python 3",
   "language": "python",
   "name": "python3"
  },
  "language_info": {
   "codemirror_mode": {
    "name": "ipython",
    "version": 3
   },
   "file_extension": ".py",
   "mimetype": "text/x-python",
   "name": "python",
   "nbconvert_exporter": "python",
   "pygments_lexer": "ipython3",
   "version": "3.6.9"
  }
 },
 "nbformat": 4,
 "nbformat_minor": 2
}
